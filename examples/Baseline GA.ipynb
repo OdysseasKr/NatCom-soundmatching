{
 "cells": [
  {
   "cell_type": "markdown",
   "metadata": {},
   "source": [
    "# Hello Evolution: A baseline GA\n",
    "\n",
    "This is a demonstration of an GA for automatic programming of a Synthesizer. We assume a synthesizer with the following parameters\n",
    "\n",
    "- `osc_1` : The shape of the first oscillator (eg Sine, Sawtooth, Triangle, Square etc)\n",
    "- `amp_1` : The amplitude of the first oscillator in the range 0.3-0.7.\n",
    "- `osc_2` : The shape of the second oscillator (eg Sine, Sawtooth, Triangle, Square etc)\n",
    "- `amp_2` : The amplitude of the second oscillator in the range 0.3-0.7.\n",
    "\n",
    "It holds that \n",
    "\n",
    "`amp_2` = 1-`amp_1`\n",
    "\n",
    "so in future experiments, the `amp_2` parameter can be omitted."
   ]
  },
  {
   "cell_type": "markdown",
   "metadata": {},
   "source": [
    "First let's import all necessary modules. For this experiment we use the [deap](https://github.com/DEAP/deap) library."
   ]
  },
  {
   "cell_type": "code",
   "execution_count": 1,
   "metadata": {},
   "outputs": [],
   "source": [
    "from deap import creator, base, tools, algorithms\n",
    "import numpy as np\n",
    "import random\n",
    "import synth\n",
    "import librosa\n",
    "import multiprocessing\n",
    "import time"
   ]
  },
  {
   "cell_type": "markdown",
   "metadata": {},
   "source": [
    "Now let's define the parameters that we are going to use and the osc shape values."
   ]
  },
  {
   "cell_type": "code",
   "execution_count": 2,
   "metadata": {},
   "outputs": [
    {
     "name": "stdout",
     "output_type": "stream",
     "text": [
      "['Sine', 'Triangle', 'Square', 'SquareH', 'Sawtooth', 'Pulse', 'Semicircle']\n"
     ]
    }
   ],
   "source": [
    "labels = ['osc_1', 'amp_1', 'osc_2', 'amp_2']\n",
    "SHAPES = list(synth.osc_1_options.keys())\n",
    "print(SHAPES)"
   ]
  },
  {
   "cell_type": "markdown",
   "metadata": {},
   "source": [
    "Now let's define the target sound. The ground truth parameters are:\n",
    "```\n",
    "osc_1 = 'Sine'\n",
    "amp_1 = 0.4\n",
    "osc_2 = 'Sawtooth'\n",
    "amp_2 = 0.6\n",
    "```"
   ]
  },
  {
   "cell_type": "code",
   "execution_count": 3,
   "metadata": {},
   "outputs": [],
   "source": [
    "mysynth = synth.Synth()\n",
    "target_features = mysynth.set_parameters(osc_1='Sine',\n",
    "                                         amp_1=0.4,\n",
    "                                         osc_2='Sawtooth',\n",
    "                                         amp_2=0.6)\n",
    "soundarray = mysynth.get_sound_array()"
   ]
  },
  {
   "cell_type": "markdown",
   "metadata": {},
   "source": [
    "Time for the definition of the feature extraction, the mate and mutate operators and the evaluation function."
   ]
  },
  {
   "cell_type": "code",
   "execution_count": 4,
   "metadata": {},
   "outputs": [],
   "source": [
    "def features(sound_array):\n",
    "    sr = 44100\n",
    "    centroid = librosa.feature.spectral_centroid(sound_array, sr)[0]\n",
    "    bandwidth = librosa.feature.spectral_bandwidth(sound_array, sr)[0]\n",
    "    flatness = librosa.feature.spectral_flatness(sound_array)[0]\n",
    "    rolloff = librosa.feature.spectral_rolloff(sound_array)[0]\n",
    "    result = np.array([centroid, bandwidth, flatness, rolloff])\n",
    "    return result.flatten()\n",
    "\n",
    "# Target feature vector\n",
    "target_f = features(soundarray)\n",
    "\n",
    "def custom_evaluate(params):\n",
    "    \"\"\"Sum of squared error evaluation function\"\"\"\n",
    "    mysynth = synth.Synth()\n",
    "    params = dict(zip(labels, params))\n",
    "    mysynth.set_parameters(**params)\n",
    "    soundarray = mysynth.get_sound_array()\n",
    "    f_vector = features(soundarray)\n",
    "    return np.sum(np.square(f_vector - target_f)),\n",
    "\n",
    "def custom_mate(ind1, ind2):\n",
    "    \"\"\"Mating function. \n",
    "    Selects one of the parameters and swaps them.\n",
    "    \"\"\"\n",
    "    pos = random.choice(np.arange(0,4))\n",
    "    ind1[pos], ind2[pos] = ind2[pos], ind1[pos]\n",
    "    return ind1, ind2\n",
    "\n",
    "def custom_mutate(individual):\n",
    "    \"\"\"Mutation function. \n",
    "    Randomly modifies one of the parameters\n",
    "    \"\"\"\n",
    "    i = random.choice([0,1,2,3])\n",
    "    if i == 0 or i == 2:\n",
    "        individual[i] = random.choice(SHAPES)\n",
    "    else:\n",
    "        individual[i] = np.random.uniform(low=0.3, high=0.7, size=(1,))[0]\n",
    "    \n",
    "    return individual,"
   ]
  },
  {
   "cell_type": "markdown",
   "metadata": {},
   "source": [
    "Now let's define the GA algorithm with the help of DEAP"
   ]
  },
  {
   "cell_type": "code",
   "execution_count": 5,
   "metadata": {},
   "outputs": [],
   "source": [
    "creator.create(\"FitnessMin\", base.Fitness, weights=(-1.0,))  # Minimize Fitness (negative weight)\n",
    "creator.create(\"Individual\", list, fitness=creator.FitnessMin)\n",
    "\n",
    "toolbox = base.Toolbox()\n",
    "toolbox.register(\"attr_shape\", lambda : random.choice(SHAPES))\n",
    "toolbox.register(\"attr_amp\", lambda : np.random.uniform(low=0.3, high=0.7, size=(1,))[0])\n",
    "toolbox.register(\"individual\",\n",
    "                 tools.initCycle,\n",
    "                 creator.Individual,\n",
    "                 (toolbox.attr_shape, toolbox.attr_amp),\n",
    "                 2)\n",
    "\n",
    "toolbox.register(\"population\", tools.initRepeat, list, toolbox.individual)\n",
    "toolbox.register(\"evaluate\", custom_evaluate) \n",
    "toolbox.register(\"mate\", custom_mate)\n",
    "toolbox.register(\"mutate\", custom_mutate)\n",
    "toolbox.register(\"select\", tools.selTournament, tournsize=3)  # Tournament selection\n",
    "toolbox.register(\"map\", multiprocessing.Pool().map)  # Make it parallel AND FAST"
   ]
  },
  {
   "cell_type": "markdown",
   "metadata": {},
   "source": [
    "Time to run the algorithm. We pick 10 generations of 30 individuals.\n",
    "But first, let's see the initial generation."
   ]
  },
  {
   "cell_type": "code",
   "execution_count": 6,
   "metadata": {},
   "outputs": [
    {
     "name": "stdout",
     "output_type": "stream",
     "text": [
      "Mean error of the initial population 259897209.1480775\n"
     ]
    },
    {
     "data": {
      "text/plain": [
       "[['Semicircle', 0.6781042167639075, 'Sawtooth', 0.44867418100948675],\n",
       " ['Triangle', 0.5001223536065843, 'Sawtooth', 0.3769479095101146],\n",
       " ['Triangle', 0.303994657203925, 'Sine', 0.4160456782950453],\n",
       " ['Square', 0.4111836493750859, 'Triangle', 0.3381852552166252],\n",
       " ['Square', 0.55486317622704, 'Square', 0.4399174576381645],\n",
       " ['Triangle', 0.31055370339893534, 'Triangle', 0.6473926947809505],\n",
       " ['Sawtooth', 0.5310391654236788, 'Semicircle', 0.6766539518061502],\n",
       " ['Sawtooth', 0.39571601640817705, 'Triangle', 0.6464075042793473],\n",
       " ['SquareH', 0.6627908085486699, 'Triangle', 0.3304517080722218],\n",
       " ['SquareH', 0.5528311008104229, 'SquareH', 0.5767326591847699],\n",
       " ['Pulse', 0.5582335166059699, 'Pulse', 0.3072153207345294],\n",
       " ['Sawtooth', 0.3160622584920359, 'Pulse', 0.6905961144348713],\n",
       " ['Sawtooth', 0.602721008025232, 'Triangle', 0.5965121461127091],\n",
       " ['SquareH', 0.5951751384140711, 'Sine', 0.3758527380938185],\n",
       " ['Triangle', 0.5894732475232007, 'Pulse', 0.4841392363147976],\n",
       " ['Square', 0.6017491600657301, 'Semicircle', 0.4567628384448824],\n",
       " ['Sawtooth', 0.6054187342928179, 'Semicircle', 0.4902372087313186],\n",
       " ['Pulse', 0.4910377431950943, 'Pulse', 0.608470312257557],\n",
       " ['Triangle', 0.5030995824394222, 'Sine', 0.3465321780769266],\n",
       " ['Square', 0.3309081036660779, 'Square', 0.312494047704514],\n",
       " ['Semicircle', 0.3387140294115419, 'Sawtooth', 0.5912838821595863],\n",
       " ['Triangle', 0.6474122530413499, 'Square', 0.6670173934704452],\n",
       " ['Semicircle', 0.6013058144663181, 'Square', 0.35161005935860595],\n",
       " ['Semicircle', 0.590657342669684, 'Semicircle', 0.47245877740880193],\n",
       " ['Sawtooth', 0.3985520240258731, 'Semicircle', 0.5731309905498938],\n",
       " ['Sawtooth', 0.31111084535282246, 'Pulse', 0.5268969806975407],\n",
       " ['Sine', 0.46826146703675314, 'Pulse', 0.47103154562685934],\n",
       " ['Semicircle', 0.6929986934600716, 'Sine', 0.30957190127016976],\n",
       " ['SquareH', 0.373714310018269, 'SquareH', 0.6862197668566542],\n",
       " ['Semicircle', 0.6187559357639909, 'Square', 0.41843973385643796]]"
      ]
     },
     "execution_count": 6,
     "metadata": {},
     "output_type": "execute_result"
    }
   ],
   "source": [
    "population = toolbox.population(n=30)\n",
    "fits = toolbox.map(toolbox.evaluate, population)\n",
    "print('Mean error of the initial population', np.mean(list(fits)))\n",
    "population"
   ]
  },
  {
   "cell_type": "code",
   "execution_count": 7,
   "metadata": {},
   "outputs": [
    {
     "name": "stdout",
     "output_type": "stream",
     "text": [
      "Mean error generation 1 : 260799106.152245 Error of best individual 1 : 93288.86359254728\n",
      "Mean error generation 2 : 58394451.84379439 Error of best individual 2 : 93288.86359254728\n",
      "Mean error generation 3 : 62152556.99687283 Error of best individual 3 : 93288.86359254728\n",
      "Mean error generation 4 : 3330953.353934851 Error of best individual 4 : 93288.86359254728\n",
      "Mean error generation 5 : 497746.46283773717 Error of best individual 5 : 93288.86359254728\n",
      "Mean error generation 6 : 111249771.92731032 Error of best individual 6 : 93288.86359254728\n",
      "Mean error generation 7 : 1064352.6292607742 Error of best individual 7 : 57886.54431449386\n",
      "Mean error generation 8 : 62277992.660083994 Error of best individual 8 : 35308.56725205307\n",
      "Mean error generation 9 : 1653378.751280148 Error of best individual 9 : 35308.56725205307\n",
      "Mean error generation 10 : 1060028.671644334 Error of best individual 10 : 35308.56725205307\n",
      "Total runtime: 21.827521800994873\n"
     ]
    }
   ],
   "source": [
    "start = time.time()\n",
    "NGEN=10\n",
    "for gen in range(1, NGEN+1):\n",
    "    offspring = algorithms.varAnd(population, toolbox, cxpb=0.5, mutpb=0.1)\n",
    "    fits = list(toolbox.map(toolbox.evaluate, offspring))\n",
    "    mean_fit = 0\n",
    "    for fit, ind in zip(fits, offspring):\n",
    "        ind.fitness.values = fit\n",
    "        mean_fit += fit[0]/len(population)\n",
    "    print('Mean error generation', gen, ':', np.mean(fits),\n",
    "          'Error of best individual', gen, ':', np.min(fits))\n",
    "    population = toolbox.select(offspring, k=len(population))\n",
    "print('Total runtime:', time.time()-start)"
   ]
  },
  {
   "cell_type": "markdown",
   "metadata": {},
   "source": [
    "The two best results are:"
   ]
  },
  {
   "cell_type": "code",
   "execution_count": 8,
   "metadata": {},
   "outputs": [
    {
     "data": {
      "text/plain": [
       "[['Sawtooth', 0.5461182351802976, 'Sine', 0.3758527380938185],\n",
       " ['Sawtooth', 0.5461182351802976, 'Sine', 0.3758527380938185]]"
      ]
     },
     "execution_count": 8,
     "metadata": {},
     "output_type": "execute_result"
    }
   ],
   "source": [
    "tools.selBest(population, k=2)"
   ]
  },
  {
   "cell_type": "code",
   "execution_count": 9,
   "metadata": {},
   "outputs": [
    {
     "data": {
      "text/plain": [
       "[['Sawtooth', 0.5951751384140711, 'Sine', 0.3810769849928337],\n",
       " ['Sawtooth', 0.5461182351802976, 'Sine', 0.3758527380938185],\n",
       " ['Sawtooth', 0.5461182351802976, 'Sine', 0.3758527380938185],\n",
       " ['Sawtooth', 0.5461182351802976, 'Sine', 0.3758527380938185],\n",
       " ['Sawtooth', 0.5951751384140711, 'Sine', 0.3758527380938185],\n",
       " ['Sawtooth', 0.5461182351802976, 'Sine', 0.3758527380938185],\n",
       " ['Sawtooth', 0.5880284388866324, 'Sine', 0.3758527380938185],\n",
       " ['Sawtooth', 0.5951751384140711, 'Sine', 0.3810769849928337],\n",
       " ['Sawtooth', 0.5951751384140711, 'Sine', 0.3810769849928337],\n",
       " ['Sawtooth', 0.5461182351802976, 'Sine', 0.3758527380938185],\n",
       " ['Sawtooth', 0.5461182351802976, 'Sine', 0.3758527380938185],\n",
       " ['Sawtooth', 0.5951751384140711, 'Sine', 0.3758527380938185],\n",
       " ['Sawtooth', 0.5951751384140711, 'Sine', 0.3810769849928337],\n",
       " ['Sawtooth', 0.5951751384140711, 'Sine', 0.3810769849928337],\n",
       " ['Sawtooth', 0.5951751384140711, 'Sine', 0.3758527380938185],\n",
       " ['Sawtooth', 0.5461182351802976, 'Sine', 0.3758527380938185],\n",
       " ['Sawtooth', 0.5951751384140711, 'Sine', 0.3758527380938185],\n",
       " ['Sawtooth', 0.5951751384140711, 'Sine', 0.3810769849928337],\n",
       " ['Sawtooth', 0.5951751384140711, 'Sine', 0.3758527380938185],\n",
       " ['Sawtooth', 0.5951751384140711, 'Sine', 0.3810769849928337],\n",
       " ['Sawtooth', 0.5951751384140711, 'Sine', 0.3810769849928337],\n",
       " ['Sawtooth', 0.5951751384140711, 'Sine', 0.3810769849928337],\n",
       " ['Sawtooth', 0.5951751384140711, 'Sine', 0.3810769849928337],\n",
       " ['Sawtooth', 0.5461182351802976, 'Sine', 0.3758527380938185],\n",
       " ['Sawtooth', 0.5461182351802976, 'Sine', 0.3758527380938185],\n",
       " ['Sawtooth', 0.5461182351802976, 'Sine', 0.3758527380938185],\n",
       " ['Sawtooth', 0.5461182351802976, 'Sine', 0.3758527380938185],\n",
       " ['Sawtooth', 0.5951751384140711, 'Sine', 0.3758527380938185],\n",
       " ['Sawtooth', 0.5461182351802976, 'Sine', 0.3758527380938185],\n",
       " ['Sawtooth', 0.5461182351802976, 'Sine', 0.3758527380938185]]"
      ]
     },
     "execution_count": 9,
     "metadata": {},
     "output_type": "execute_result"
    }
   ],
   "source": [
    "population"
   ]
  },
  {
   "cell_type": "code",
   "execution_count": null,
   "metadata": {},
   "outputs": [],
   "source": []
  }
 ],
 "metadata": {
  "kernelspec": {
   "display_name": "synthai3",
   "language": "python",
   "name": "synthai3"
  },
  "language_info": {
   "codemirror_mode": {
    "name": "ipython",
    "version": 3
   },
   "file_extension": ".py",
   "mimetype": "text/x-python",
   "name": "python",
   "nbconvert_exporter": "python",
   "pygments_lexer": "ipython3",
   "version": "3.8.2"
  }
 },
 "nbformat": 4,
 "nbformat_minor": 4
}
