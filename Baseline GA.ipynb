{
 "cells": [
  {
   "cell_type": "markdown",
   "metadata": {},
   "source": [
    "# Hello Evolution: A baseline GA\n",
    "\n",
    "This is a demonstration of an GA for automatic programming of a Synthesizer. We assume a synthesizer with the following parameters\n",
    "\n",
    "- `osc_1` : The shape of the first oscillator (eg Sine, Sawtooth, Triangle, Square etc)\n",
    "- `amp_1` : The amplitude of the first oscillator in the range 0.3-0.7.\n",
    "- `osc_2` : The shape of the second oscillator (eg Sine, Sawtooth, Triangle, Square etc)\n",
    "- `amp_2` : The amplitude of the second oscillator in the range 0.3-0.7.\n",
    "\n",
    "It holds that \n",
    "\n",
    "`amp_2` = 1-`amp_1`\n",
    "\n",
    "so in future experiments, the `amp_2` parameter can be omitted."
   ]
  },
  {
   "cell_type": "markdown",
   "metadata": {},
   "source": [
    "First let's import all necessary modules. For this experiment we use the [deap](https://github.com/DEAP/deap) library."
   ]
  },
  {
   "cell_type": "code",
   "execution_count": 1,
   "metadata": {},
   "outputs": [],
   "source": [
    "from deap import creator, base, tools, algorithms\n",
    "import numpy as np\n",
    "import random\n",
    "import synth\n",
    "import librosa"
   ]
  },
  {
   "cell_type": "markdown",
   "metadata": {},
   "source": [
    "Now let's define the parameters that we are going to use and the osc shape values."
   ]
  },
  {
   "cell_type": "code",
   "execution_count": 2,
   "metadata": {},
   "outputs": [
    {
     "name": "stdout",
     "output_type": "stream",
     "text": [
      "['Sine', 'Triangle', 'Square', 'SquareH', 'Sawtooth', 'Pulse', 'Semicircle']\n"
     ]
    }
   ],
   "source": [
    "labels = ['osc_1', 'amp_1', 'osc_2', 'amp_2']\n",
    "SHAPES = list(synth.osc_1_options.keys())\n",
    "print(SHAPES)"
   ]
  },
  {
   "cell_type": "markdown",
   "metadata": {},
   "source": [
    "Now let's define the target sound. The ground truth parameters are:\n",
    "```\n",
    "osc_1 = 'Sine'\n",
    "amp_1 = 0.4\n",
    "osc_2 = 'Sawtooth'\n",
    "amp_2 = 0.6\n",
    "```"
   ]
  },
  {
   "cell_type": "code",
   "execution_count": 3,
   "metadata": {},
   "outputs": [],
   "source": [
    "mysynth = synth.Synth()\n",
    "target_features = mysynth.set_parameters(osc_1='Sine',\n",
    "                                         amp_1=0.4,\n",
    "                                         osc_2='Sawtooth',\n",
    "                                         amp_2=0.6)\n",
    "soundarray = mysynth.get_sound_array()"
   ]
  },
  {
   "cell_type": "markdown",
   "metadata": {},
   "source": [
    "Time for the definition of the feature extraction, the mate and mutate operators and the evaluation function."
   ]
  },
  {
   "cell_type": "code",
   "execution_count": 4,
   "metadata": {},
   "outputs": [],
   "source": [
    "def features(sound_array):\n",
    "    sr = 44100\n",
    "    centroid = librosa.feature.spectral_centroid(sound_array, sr)[0]\n",
    "    bandwidth = librosa.feature.spectral_bandwidth(sound_array, sr)[0]\n",
    "    flatness = librosa.feature.spectral_flatness(sound_array)[0]\n",
    "    rolloff = librosa.feature.spectral_rolloff(sound_array)[0]\n",
    "    result = np.array([centroid, bandwidth, flatness, rolloff])\n",
    "    return result.flatten()\n",
    "\n",
    "# Target feature vector\n",
    "target_f = features(soundarray)\n",
    "\n",
    "def custom_evaluate(params):\n",
    "    \"\"\"Sum of squared error evaluation function\"\"\"\n",
    "    mysynth = synth.Synth()\n",
    "    params = dict(zip(labels,params))\n",
    "    mysynth.set_parameters(**params)\n",
    "    soundarray = mysynth.get_sound_array()\n",
    "    f_vector = features(soundarray)\n",
    "    return np.sum(np.square(f_vector - target_f)),\n",
    "\n",
    "def custom_mate(ind1, ind2, indpb):\n",
    "    \"\"\"Mating function. This is probably incorrect\"\"\"\n",
    "    for key in range(2):\n",
    "        if random.random() < indpb:\n",
    "            ind1[key], ind2[key] = ind2[key], ind1[key]\n",
    "    return ind1, ind2\n",
    "\n",
    "def custom_mutate(individual, indpb):\n",
    "    \"\"\"Mutation function. We need to check the probability before mutating I think\"\"\"\n",
    "    i = random.choice([0,1,2,3])\n",
    "    if i == 0 or i == 2:\n",
    "        individual[i] = random.choice(SHAPES)\n",
    "    else:\n",
    "        individual[i] = np.random.uniform(low=0.3, high=0.7, size=(1,))[0]\n",
    "    \n",
    "    return individual,"
   ]
  },
  {
   "cell_type": "markdown",
   "metadata": {},
   "source": [
    "Now let's define the GA algorithm with the help of DEAP"
   ]
  },
  {
   "cell_type": "code",
   "execution_count": 5,
   "metadata": {},
   "outputs": [],
   "source": [
    "creator.create(\"FitnessMin\", base.Fitness, weights=(-1.0,))\n",
    "creator.create(\"Individual\", list, fitness=creator.FitnessMin)\n",
    "\n",
    "toolbox = base.Toolbox()\n",
    "toolbox.register(\"attr_shape\", lambda : random.choice(SHAPES))\n",
    "toolbox.register(\"attr_amp\", lambda : np.random.uniform(low=0.3, high=0.7, size=(1,))[0])\n",
    "toolbox.register(\"individual\",\n",
    "                 tools.initCycle,\n",
    "                 creator.Individual,\n",
    "                 (toolbox.attr_shape, toolbox.attr_amp),\n",
    "                 2)\n",
    "\n",
    "toolbox.register(\"population\", tools.initRepeat, list, toolbox.individual)\n",
    "toolbox.register(\"evaluate\", custom_evaluate) \n",
    "toolbox.register(\"mate\", custom_mate, indpb=0.5)\n",
    "toolbox.register(\"mutate\", custom_mutate, indpb=0.05)\n",
    "toolbox.register(\"select\", tools.selTournament, tournsize=3)"
   ]
  },
  {
   "cell_type": "markdown",
   "metadata": {},
   "source": [
    "Time to run the algorithm. We pick 10 generations of 30 individuals.\n",
    "But first, let's see the initial generation."
   ]
  },
  {
   "cell_type": "code",
   "execution_count": 6,
   "metadata": {},
   "outputs": [
    {
     "data": {
      "text/plain": [
       "[['Semicircle', 0.3248762530116565, 'Sawtooth', 0.340121365621864],\n",
       " ['Triangle', 0.4159077405545425, 'Triangle', 0.4938322927210526],\n",
       " ['Sawtooth', 0.48122108100340144, 'Pulse', 0.5133189396914227],\n",
       " ['SquareH', 0.31868635059871125, 'Sine', 0.6874827972477514],\n",
       " ['Pulse', 0.4728196754694046, 'Square', 0.404995960506596],\n",
       " ['Semicircle', 0.44608800702040186, 'SquareH', 0.5252303102484442],\n",
       " ['Triangle', 0.6611685619481514, 'SquareH', 0.6082406480464767],\n",
       " ['Sine', 0.3703478168524261, 'Square', 0.6827191880084751],\n",
       " ['Square', 0.4902504882587708, 'Sine', 0.33025441176872355],\n",
       " ['Sawtooth', 0.69757562661747, 'Pulse', 0.6501433366097406],\n",
       " ['Semicircle', 0.3445848125637166, 'Sine', 0.435916235686384],\n",
       " ['Semicircle', 0.683741584365207, 'Sine', 0.4390566774623891],\n",
       " ['Square', 0.532831851216794, 'Triangle', 0.38684364689471046],\n",
       " ['Triangle', 0.6812800201681788, 'Square', 0.5054556176651712],\n",
       " ['SquareH', 0.3019743305201912, 'SquareH', 0.4119683834129382],\n",
       " ['SquareH', 0.6799504021348093, 'Pulse', 0.5206140132434441],\n",
       " ['Semicircle', 0.551943434371396, 'Sine', 0.5294722176884417],\n",
       " ['Semicircle', 0.5099800385611413, 'Sawtooth', 0.5328681246862981],\n",
       " ['Triangle', 0.3069129088785476, 'Sine', 0.4713119216817747],\n",
       " ['Triangle', 0.5977595234647661, 'Sawtooth', 0.39988459939680493],\n",
       " ['Pulse', 0.30102639969599754, 'Sawtooth', 0.6018273418116449],\n",
       " ['Sine', 0.3689931191637882, 'Semicircle', 0.30114663614636267],\n",
       " ['Sawtooth', 0.4739151386089656, 'Square', 0.6024489190026039],\n",
       " ['SquareH', 0.4430296141783699, 'Pulse', 0.4571705482565888],\n",
       " ['Semicircle', 0.3659778314238591, 'Sawtooth', 0.5536177238581826],\n",
       " ['Sine', 0.599414177545606, 'Pulse', 0.6381696918831835],\n",
       " ['Triangle', 0.49330323790535263, 'Pulse', 0.36805337068173083],\n",
       " ['Pulse', 0.34517956867338406, 'SquareH', 0.4896673125290374],\n",
       " ['Triangle', 0.3441837231944167, 'Sine', 0.5956571734103644],\n",
       " ['SquareH', 0.5646646010440672, 'Sawtooth', 0.5887393348476343]]"
      ]
     },
     "execution_count": 6,
     "metadata": {},
     "output_type": "execute_result"
    }
   ],
   "source": [
    "population = toolbox.population(n=30)\n",
    "tools.selBest(population, k=30)"
   ]
  },
  {
   "cell_type": "code",
   "execution_count": 7,
   "metadata": {},
   "outputs": [
    {
     "name": "stdout",
     "output_type": "stream",
     "text": [
      "0\n",
      "1\n",
      "2\n",
      "3\n",
      "4\n",
      "5\n",
      "6\n",
      "7\n",
      "8\n",
      "9\n"
     ]
    }
   ],
   "source": [
    "NGEN=10\n",
    "for gen in range(NGEN):\n",
    "    print(gen)\n",
    "    offspring = algorithms.varAnd(population, toolbox, cxpb=0.5, mutpb=0.1)\n",
    "    fits = toolbox.map(toolbox.evaluate, offspring)\n",
    "    for fit, ind in zip(fits, offspring):\n",
    "        ind.fitness.values = fit\n",
    "    population = toolbox.select(offspring, k=len(population))"
   ]
  },
  {
   "cell_type": "markdown",
   "metadata": {},
   "source": [
    "The two best results are:"
   ]
  },
  {
   "cell_type": "code",
   "execution_count": 9,
   "metadata": {},
   "outputs": [
    {
     "data": {
      "text/plain": [
       "[['Sine', 0.3703478168524261, 'Sawtooth', 0.5536177238581826],\n",
       " ['Sine', 0.3703478168524261, 'Sawtooth', 0.5536177238581826]]"
      ]
     },
     "execution_count": 9,
     "metadata": {},
     "output_type": "execute_result"
    }
   ],
   "source": [
    "tools.selBest(population, k=2)"
   ]
  },
  {
   "cell_type": "code",
   "execution_count": null,
   "metadata": {},
   "outputs": [],
   "source": []
  }
 ],
 "metadata": {
  "kernelspec": {
   "display_name": "synthai3",
   "language": "python",
   "name": "synthai3"
  },
  "language_info": {
   "codemirror_mode": {
    "name": "ipython",
    "version": 3
   },
   "file_extension": ".py",
   "mimetype": "text/x-python",
   "name": "python",
   "nbconvert_exporter": "python",
   "pygments_lexer": "ipython3",
   "version": "3.8.2"
  }
 },
 "nbformat": 4,
 "nbformat_minor": 4
}
